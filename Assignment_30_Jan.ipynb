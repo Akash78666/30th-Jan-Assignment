{
 "cells": [
  {
   "cell_type": "code",
   "execution_count": 3,
   "id": "1b71abe9-7032-4039-881d-a7440a5d5f98",
   "metadata": {},
   "outputs": [
    {
     "name": "stdin",
     "output_type": "stream",
     "text": [
      "enter your percentage:  70\n"
     ]
    },
    {
     "name": "stdout",
     "output_type": "stream",
     "text": [
      "D\n"
     ]
    }
   ],
   "source": [
    "percentage=int(input(\"enter your percentage: \"))\n",
    "if(percentage >90):\n",
    "    print(\"A\")\n",
    "elif(percentage >80 and percentage <=90):\n",
    "    print(\"B\")\n",
    "elif(percentage >70 and percentage <=80):\n",
    "    print(\"C\")\n",
    "elif(percentage >60 and percentage <=70):\n",
    "    print(\"D\")\n",
    "else:\n",
    "    print(\"E\")\n"
   ]
  },
  {
   "cell_type": "code",
   "execution_count": 7,
   "id": "89b55826-0ed8-4607-85c3-6aa1e359a9c5",
   "metadata": {},
   "outputs": [
    {
     "name": "stdin",
     "output_type": "stream",
     "text": [
      "enter your CostPrice:   600000\n"
     ]
    },
    {
     "name": "stdout",
     "output_type": "stream",
     "text": [
      "15%\n"
     ]
    }
   ],
   "source": [
    "CostPrice=int(input(\"enter your CostPrice:  \"))\n",
    "if(CostPrice >100000):\n",
    "    print(\"15%\")\n",
    "elif(CostPrice>50000 and CostPrice<=100000):\n",
    "    print(\"10%\")\n",
    "elif(CostPrice <=50000):\n",
    "    print(\"5%\")\n",
    "else:\n",
    "    print(\"please enter the correct CostPrice\")\n"
   ]
  },
  {
   "cell_type": "code",
   "execution_count": 9,
   "id": "17420066-28d3-4cc1-9833-6a296d43dcf1",
   "metadata": {},
   "outputs": [
    {
     "name": "stdin",
     "output_type": "stream",
     "text": [
      "Enter the name of a city:  Agra\n"
     ]
    },
    {
     "name": "stdout",
     "output_type": "stream",
     "text": [
      "The Taj Mahal is a famous monument in Agra.\n"
     ]
    }
   ],
   "source": [
    "city = input(\"Enter the name of a city: \")\n",
    "\n",
    "if city == \"Delhi\":\n",
    "    print(\"The Eiffel  Delhi is a famous monument in Red Fort.\")\n",
    "elif city == \"Agra\":\n",
    "    print(\"The Taj Mahal is a famous monument in Agra.\")\n",
    "elif city == \"Agra\":\n",
    "    print(\"The Jal Mahal is a famous monument in Jaipur.\")\n",
    "else:\n",
    "    print(\"I'm sorry, I don't know a famous monument in that city.\")"
   ]
  },
  {
   "cell_type": "code",
   "execution_count": 18,
   "id": "837d0d6a-6310-49a5-a19e-7ad539e2881c",
   "metadata": {},
   "outputs": [
    {
     "name": "stdin",
     "output_type": "stream",
     "text": [
      "enter your number 15\n"
     ]
    },
    {
     "name": "stdout",
     "output_type": "stream",
     "text": [
      " is  not divisble by 3\n"
     ]
    }
   ],
   "source": [
    "\n",
    "num=int(input(\"enter your number\"))\n",
    "if(num%3>=10):\n",
    "       \n",
    "       print(\"is divisible by 3\")\n",
    "else:\n",
    "    print(\" is  not divisble by 3\")\n"
   ]
  },
  {
   "cell_type": "code",
   "execution_count": 21,
   "id": "c578f25c-49f7-4880-8319-be03d4d03830",
   "metadata": {},
   "outputs": [
    {
     "name": "stdout",
     "output_type": "stream",
     "text": [
      "Hello Sir\n",
      "Hello Sir\n",
      "Hello Sir\n"
     ]
    }
   ],
   "source": [
    "# The do  while loop is an exit controlled loop,where even if test condition is fale, the loop body will be executed at least once\n",
    "count= 0\n",
    "while (count<3):\n",
    "    count=count+1\n",
    "    print(\"Hello Sir\")"
   ]
  },
  {
   "cell_type": "code",
   "execution_count": 22,
   "id": "817d9de1-cf23-463a-8cd2-b6dfdad54cec",
   "metadata": {},
   "outputs": [
    {
     "name": "stdout",
     "output_type": "stream",
     "text": [
      "10\n",
      "9\n",
      "8\n",
      "7\n",
      "6\n",
      "5\n",
      "4\n",
      "3\n",
      "2\n",
      "1\n"
     ]
    }
   ],
   "source": [
    "i=10\n",
    "while i>0:\n",
    "    print(i)\n",
    "    i=i-1\n",
    "   "
   ]
  },
  {
   "cell_type": "code",
   "execution_count": null,
   "id": "8bdef996-ff69-4f03-8e8f-cb883d6e3287",
   "metadata": {},
   "outputs": [],
   "source": [
    "i=1\n",
    "while i<10:\n",
    "    print(i)\n",
    "    i=i-1"
   ]
  },
  {
   "cell_type": "code",
   "execution_count": null,
   "id": "377051b7-ee6d-460f-8269-ab541ba55ebb",
   "metadata": {},
   "outputs": [],
   "source": []
  }
 ],
 "metadata": {
  "kernelspec": {
   "display_name": "Python 3 (ipykernel)",
   "language": "python",
   "name": "python3"
  },
  "language_info": {
   "codemirror_mode": {
    "name": "ipython",
    "version": 3
   },
   "file_extension": ".py",
   "mimetype": "text/x-python",
   "name": "python",
   "nbconvert_exporter": "python",
   "pygments_lexer": "ipython3",
   "version": "3.10.8"
  }
 },
 "nbformat": 4,
 "nbformat_minor": 5
}
